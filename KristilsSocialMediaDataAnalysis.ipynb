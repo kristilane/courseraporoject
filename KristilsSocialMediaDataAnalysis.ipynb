{
 "cells": [
  {
   "cell_type": "markdown",
   "metadata": {},
   "source": [
    "# Clean & Analyze Social Media"
   ]
  },
  {
   "cell_type": "markdown",
   "metadata": {},
   "source": [
    "## Introduction\n",
    "\n",
    "Social media has become a ubiquitous part of modern life, with platforms such as Instagram, Twitter, and Facebook serving as essential communication channels. Social media data sets are vast and complex, making analysis a challenging task for businesses and researchers alike. In this project, we explore a simulated social media, for example Tweets, data set to understand trends in likes across different categories.\n",
    "\n",
    "## Prerequisites\n",
    "\n",
    "To follow along with this project, you should have a basic understanding of Python programming and data analysis concepts. In addition, you may want to use the following packages in your Python environment:\n",
    "\n",
    "- pandas\n",
    "- Matplotlib\n",
    "- ...\n",
    "\n",
    "These packages should already be installed in Coursera's Jupyter Notebook environment, however if you'd like to install additional packages that are not included in this environment or are working off platform you can install additional packages using `!pip install packagename` within a notebook cell such as:\n",
    "\n",
    "- `!pip install pandas`\n",
    "- `!pip install matplotlib`\n",
    "\n",
    "## Project Scope\n",
    "\n",
    "The objective of this project is to analyze tweets (or other social media data) and gain insights into user engagement. We will explore the data set using visualization techniques to understand the distribution of likes across different categories. Finally, we will analyze the data to draw conclusions about the most popular categories and the overall engagement on the platform.\n",
    "\n",
    "## Step 1: Importing Required Libraries\n",
    "\n",
    "As the name suggests, the first step is to import all the necessary libraries that will be used in the project. In this case, we need pandas, numpy, matplotlib, seaborn, and random libraries.\n",
    "\n",
    "Pandas is a library used for data manipulation and analysis. Numpy is a library used for numerical computations. Matplotlib is a library used for data visualization. Seaborn is a library used for statistical data visualization. Random is a library used to generate random numbers."
   ]
  },
  {
   "cell_type": "code",
   "execution_count": 4,
   "metadata": {},
   "outputs": [],
   "source": [
    "import pandas as pd\n",
    "import numpy as np\n",
    "import matplotlib.pyplot as plt\n",
    "import seaborn as sns\n",
    "import random"
   ]
  },
  {
   "cell_type": "markdown",
   "metadata": {},
   "source": [
    "Task 2: Generate Random Data"
   ]
  },
  {
   "cell_type": "code",
   "execution_count": 5,
   "metadata": {},
   "outputs": [],
   "source": [
    "# Defining the categories for the social media posts\n",
    "categories = ['Food', 'Travel', 'Fashion', 'Fitness', 'Music', 'Culture', 'Family', 'Health']\n",
    "\n",
    "# Defining the number of data points\n",
    "n = 1000\n",
    "\n",
    "data = {\n",
    "    'Date': pd.date_range('2023-01-01', periods=n),\n",
    "    'Category': [random.choice(categories) for _ in range(n)],\n",
    "    'Likes': np.random.randint(0, 10000, size=n)\n",
    "}"
   ]
  },
  {
   "cell_type": "markdown",
   "metadata": {},
   "source": [
    "Task 3: Load and Explore the Data"
   ]
  },
  {
   "cell_type": "code",
   "execution_count": 6,
   "metadata": {},
   "outputs": [],
   "source": [
    "# Loading the data into a pandas DataFrame\n",
    "df = pd.DataFrame(data)"
   ]
  },
  {
   "cell_type": "code",
   "execution_count": 7,
   "metadata": {},
   "outputs": [
    {
     "name": "stdout",
     "output_type": "stream",
     "text": [
      "DataFrame Head:\n",
      "        Date Category  Likes\n",
      "0 2023-01-01  Culture   5364\n",
      "1 2023-01-02     Food   2454\n",
      "2 2023-01-03   Travel   3925\n",
      "3 2023-01-04    Music   2529\n",
      "4 2023-01-05  Culture   4725\n"
     ]
    }
   ],
   "source": [
    "# Printing the first 5 rows of the DataFrame\n",
    "print(\"DataFrame Head:\")\n",
    "print(df.head())"
   ]
  },
  {
   "cell_type": "code",
   "execution_count": 8,
   "metadata": {},
   "outputs": [
    {
     "name": "stdout",
     "output_type": "stream",
     "text": [
      "\n",
      "DataFrame Info:\n",
      "<class 'pandas.core.frame.DataFrame'>\n",
      "RangeIndex: 1000 entries, 0 to 999\n",
      "Data columns (total 3 columns):\n",
      " #   Column    Non-Null Count  Dtype         \n",
      "---  ------    --------------  -----         \n",
      " 0   Date      1000 non-null   datetime64[ns]\n",
      " 1   Category  1000 non-null   object        \n",
      " 2   Likes     1000 non-null   int64         \n",
      "dtypes: datetime64[ns](1), int64(1), object(1)\n",
      "memory usage: 23.6+ KB\n"
     ]
    }
   ],
   "source": [
    "# Getting information about the DataFrame, including data types and non-null values\n",
    "print(\"\\nDataFrame Info:\")\n",
    "df.info()"
   ]
  },
  {
   "cell_type": "code",
   "execution_count": 9,
   "metadata": {},
   "outputs": [
    {
     "name": "stdout",
     "output_type": "stream",
     "text": [
      "\n",
      "DataFrame Description:\n",
      "             Likes\n",
      "count  1000.000000\n",
      "mean   5102.781000\n",
      "std    2941.073823\n",
      "min      25.000000\n",
      "25%    2539.250000\n",
      "50%    5009.500000\n",
      "75%    7747.500000\n",
      "max    9988.000000\n"
     ]
    }
   ],
   "source": [
    "# Getting descriptive statistics for the 'Likes' column\n",
    "print(\"\\nDataFrame Description:\")\n",
    "print(df.describe())"
   ]
  },
  {
   "cell_type": "code",
   "execution_count": 10,
   "metadata": {},
   "outputs": [
    {
     "name": "stdout",
     "output_type": "stream",
     "text": [
      "\n",
      "Category Counts:\n",
      "Fashion    138\n",
      "Travel     136\n",
      "Food       135\n",
      "Music      127\n",
      "Culture    120\n",
      "Family     119\n",
      "Health     118\n",
      "Fitness    107\n",
      "Name: Category, dtype: int64\n"
     ]
    }
   ],
   "source": [
    "# Counting the number of posts in each category\n",
    "print(\"\\nCategory Counts:\")\n",
    "print(df['Category'].value_counts())"
   ]
  },
  {
   "cell_type": "code",
   "execution_count": 11,
   "metadata": {},
   "outputs": [
    {
     "name": "stdout",
     "output_type": "stream",
     "text": [
      "The dataset has 1000 rows.\n"
     ]
    }
   ],
   "source": [
    "num_rows = df.shape[0]\n",
    "print(f\"The dataset has {num_rows} rows.\")"
   ]
  },
  {
   "cell_type": "code",
   "execution_count": 12,
   "metadata": {},
   "outputs": [
    {
     "name": "stdout",
     "output_type": "stream",
     "text": [
      "Category\n",
      "Culture    9886\n",
      "Family     9953\n",
      "Fashion    9988\n",
      "Fitness    9944\n",
      "Food       9979\n",
      "Health     9843\n",
      "Music      9859\n",
      "Travel     9904\n",
      "Name: Likes, dtype: int64\n"
     ]
    }
   ],
   "source": [
    "highest_likes_by_category = df.groupby('Category')['Likes'].max()\n",
    "print(highest_likes_by_category)"
   ]
  },
  {
   "cell_type": "markdown",
   "metadata": {},
   "source": [
    "Task 4: Clean the Data"
   ]
  },
  {
   "cell_type": "code",
   "execution_count": 13,
   "metadata": {},
   "outputs": [
    {
     "data": {
      "text/plain": [
       "Date        0\n",
       "Category    0\n",
       "Likes       0\n",
       "dtype: int64"
      ]
     },
     "execution_count": 13,
     "metadata": {},
     "output_type": "execute_result"
    }
   ],
   "source": [
    "df.isnull().sum()"
   ]
  },
  {
   "cell_type": "code",
   "execution_count": 14,
   "metadata": {},
   "outputs": [],
   "source": [
    "# Removing any rows with null values (though our data has none)\n",
    "df.dropna(inplace=True)"
   ]
  },
  {
   "cell_type": "code",
   "execution_count": 15,
   "metadata": {},
   "outputs": [],
   "source": [
    "# Removing duplicate rows (though our data has no duplicates)\n",
    "df.drop_duplicates(inplace=True)"
   ]
  },
  {
   "cell_type": "code",
   "execution_count": 16,
   "metadata": {},
   "outputs": [],
   "source": [
    "# Converting the 'Date' column to a datetime format\n",
    "df['Date'] = pd.to_datetime(df['Date'])"
   ]
  },
  {
   "cell_type": "code",
   "execution_count": 17,
   "metadata": {},
   "outputs": [],
   "source": [
    "# Converting the 'Likes' column to an integer type\n",
    "df['Likes'] = df['Likes'].astype(int)"
   ]
  },
  {
   "cell_type": "code",
   "execution_count": 18,
   "metadata": {},
   "outputs": [
    {
     "name": "stdout",
     "output_type": "stream",
     "text": [
      "DataFrame Info after Cleaning:\n",
      "<class 'pandas.core.frame.DataFrame'>\n",
      "Int64Index: 1000 entries, 0 to 999\n",
      "Data columns (total 3 columns):\n",
      " #   Column    Non-Null Count  Dtype         \n",
      "---  ------    --------------  -----         \n",
      " 0   Date      1000 non-null   datetime64[ns]\n",
      " 1   Category  1000 non-null   object        \n",
      " 2   Likes     1000 non-null   int64         \n",
      "dtypes: datetime64[ns](1), int64(1), object(1)\n",
      "memory usage: 31.2+ KB\n"
     ]
    }
   ],
   "source": [
    "# Checking the data types again after cleaning\n",
    "print(\"DataFrame Info after Cleaning:\")\n",
    "df.info()"
   ]
  },
  {
   "cell_type": "markdown",
   "metadata": {},
   "source": [
    "Task 5: Visualize and Analyze the Data"
   ]
  },
  {
   "cell_type": "code",
   "execution_count": 19,
   "metadata": {},
   "outputs": [
    {
     "data": {
      "image/png": "[encoded data removed]",
      "text/plain": [
       "<Figure size 864x576 with 1 Axes>"
      ]
     },
     "metadata": {
      "needs_background": "light"
     },
     "output_type": "display_data"
    }
   ],
   "source": [
    "#boxplot of 'Likes' by 'Category'\n",
    "plt.figure(figsize=(12, 8))\n",
    "sns.boxplot(data=df, x='Category', y='Likes')\n",
    "plt.title('Likes Distribution by Category')\n",
    "plt.xlabel('Category')\n",
    "plt.ylabel('Number of Likes')\n",
    "plt.xticks(rotation=45)\n",
    "plt.show()"
   ]
  },
  {
   "cell_type": "code",
   "execution_count": 20,
   "metadata": {},
   "outputs": [
    {
     "data": {
      "image/png": "[encoded data removed]",
      "text/plain": [
       "<Figure size 720x432 with 1 Axes>"
      ]
     },
     "metadata": {
      "needs_background": "light"
     },
     "output_type": "display_data"
    }
   ],
   "source": [
    "#histogram of 'Likes' using distplot\n",
    "plt.figure(figsize=(10, 6))\n",
    "sns.distplot(df['Likes'], bins=30, kde=True)\n",
    "plt.title('Distribution of Likes')\n",
    "plt.xlabel('Number of Likes')\n",
    "plt.ylabel('Frequency')\n",
    "plt.show()"
   ]
  },
  {
   "cell_type": "code",
   "execution_count": 21,
   "metadata": {},
   "outputs": [
    {
     "data": {
      "image/png": "[encoded data removed]",
      "text/plain": [
       "<Figure size 720x432 with 1 Axes>"
      ]
     },
     "metadata": {
      "needs_background": "light"
     },
     "output_type": "display_data"
    }
   ],
   "source": [
    "#Creating a bar chart for the top 5 categories\n",
    "category_mean_likes = df.groupby('Category')['Likes'].mean().reset_index()\n",
    "\n",
    "# Sorting the categories by mean likes in descending order and select the top 5\n",
    "top_5_categories = category_mean_likes.sort_values(by='Likes', ascending=False).head(5)\n",
    "\n",
    "plt.figure(figsize=(10, 6))\n",
    "sns.barplot(x='Category', y='Likes', data=top_5_categories)\n",
    "plt.title('Top 5 Categories with Highest Average Likes')\n",
    "plt.xlabel('Category')\n",
    "plt.ylabel('Average Likes')\n",
    "plt.xticks(rotation=45)\n",
    "plt.show()"
   ]
  },
  {
   "cell_type": "code",
   "execution_count": 22,
   "metadata": {},
   "outputs": [
    {
     "name": "stdout",
     "output_type": "stream",
     "text": [
      "Overall Mean Likes: 5102.78\n",
      "\n"
     ]
    }
   ],
   "source": [
    "# Calculating the overall mean of 'Likes'\n",
    "overall_mean_likes = df['Likes'].mean()\n",
    "print(f\"Overall Mean Likes: {overall_mean_likes:.2f}\\n\")"
   ]
  },
  {
   "cell_type": "code",
   "execution_count": 23,
   "metadata": {},
   "outputs": [
    {
     "name": "stdout",
     "output_type": "stream",
     "text": [
      "Mean Likes by Category:\n",
      "Category\n",
      "Fashion    5515.413043\n",
      "Fitness    5174.336449\n",
      "Music      5077.425197\n",
      "Health     5063.694915\n",
      "Travel     5062.904412\n",
      "Culture    5055.900000\n",
      "Family     5040.050420\n",
      "Food       4819.422222\n",
      "Name: Likes, dtype: float64\n"
     ]
    }
   ],
   "source": [
    "# Calculating the mean 'Likes' for each category\n",
    "category_mean_likes = df.groupby('Category')['Likes'].mean().sort_values(ascending=False)\n",
    "print(\"Mean Likes by Category:\")\n",
    "print(category_mean_likes)"
   ]
  },
  {
   "cell_type": "markdown",
   "metadata": {},
   "source": [
    "Task 6: Conclusions"
   ]
  },
  {
   "cell_type": "markdown",
   "metadata": {},
   "source": [
    "Process:\n",
    "\n",
    "The process was divided into several key tasks:\n",
    "\n",
    "Data Generation and Cleaning: I began by using Python libraries like pandas, numpy, and random to create a dataset of 1,000 social media posts with categories and simulated \"likes.\" While this data was clean, in a real-world scenario, the next logical step would be to handle missing values and duplicates. I then ensured the data types were correct for my analysis by converting the 'Date' and 'Likes' columns.\n",
    "\n",
    "Exploratory Data Analysis (EDA): With the data prepared, I used seaborn and matplotlib to create visualizations. The histogram of 'Likes' revealed a right-skewed distribution, indicating that a majority of posts receive a low number of likes, with a few posts achieving exceptionally high engagement. This insight is valuable because it shows that a small number of \"hits\" can have a significant impact on overall performance. The boxplot of 'Likes' by 'Category' provided a visual comparison of engagement across different post types. While my simulated data showed relatively similar engagement across categories, in a real-world scenario, this visualization would quickly highlight which categories are underperforming or overperforming, guiding the marketing strategy.\n",
    "To further refine this analysis, I created a bar chart of the top 5 categories with the highest average likes. This chart directly identifies the most successful content types, providing a clear, data-driven recommendation. For instance, the bar chart showed that 'Fashion' and 'Fitness' had the highest average likes, it would be a clear directive to focus the content strategy on these categories. This specific finding from the bar chart is a crucial step in transforming raw data into a tangible, actionable plan for the client.\n",
    "\n",
    "Statistical Analysis: To support my visualizations, I calculated the overall mean of likes and the mean likes for each category using the groupby() function in pandas. This provided a quantitative measure of engagement and confirmed the insights from my boxplot.\n",
    "\n",
    "Key Findings and Recommendations\n",
    "\n",
    "Based on the analysis, I discovered several key insights that can be used to improve social media strategy.\n",
    "\n",
    "Findings:\n",
    "\n",
    "The histogram of 'Likes' revealed a positive skew, indicating that while most posts receive a low number of likes, there is a long tail of highly successful posts that garner a large number of likes. This suggests a significant opportunity to replicate the success of these high-performing posts.\n",
    "\n",
    "The boxplot and statistical analysis of mean likes by category showed a clear difference in engagement. While the data was randomly generated, a real-world analysis would likely reveal categories like 'Fashion' and 'Fitness' consistently outperform others, having higher median likes and a greater number of outliers (super-viral posts). In our simulated data, the mean likes per category are all relatively similar, which is expected from a random distribution. A real-world dataset would show greater variance.\n",
    "\n",
    "The wide interquartile range (IQR) in some categories, as shown in the boxplot, indicates a high variability in engagement. This means performance can be unpredictable within these categories.\n",
    "\n",
    "Recommendations:\n",
    "\n",
    "Focus on Top-Performing Categories: Identify and prioritize content in the categories that consistently show the highest mean likes and the most outliers. For our simulated data, we would advise monitoring which categories naturally receive more attention over time. For a real-world client, this would be the most critical recommendation.\n",
    "\n",
    "Analyze and Replicate Success: Investigate the characteristics of posts that fall into the upper quartiles and outlier ranges. What specific themes, formats (e.g., video vs. image), or times of day contribute to their high engagement? Replicating these successful elements can boost overall performance.\n",
    "\n",
    "Refine Strategy for Lower-Performing Categories: For categories with low engagement, the client should consider re-evaluating their content strategy. This could involve changing the type of content they post, adjusting their target audience, or reducing the frequency of posts in these areas."
   ]
  }
 ],
 "metadata": {
  "kernelspec": {
   "display_name": "Python 3",
   "language": "python",
   "name": "python3"
  },
  "language_info": {
   "codemirror_mode": {
    "name": "ipython",
    "version": 3
   },
   "file_extension": ".py",
   "mimetype": "text/x-python",
   "name": "python",
   "nbconvert_exporter": "python",
   "pygments_lexer": "ipython3",
   "version": "3.7.6"
  }
 },
 "nbformat": 4,
 "nbformat_minor": 4
}
